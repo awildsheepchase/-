{
  "nbformat": 4,
  "nbformat_minor": 0,
  "metadata": {
    "colab": {
      "provenance": [],
      "include_colab_link": true
    },
    "kernelspec": {
      "name": "python3",
      "display_name": "Python 3"
    },
    "language_info": {
      "name": "python"
    }
  },
  "cells": [
    {
      "cell_type": "markdown",
      "metadata": {
        "id": "view-in-github",
        "colab_type": "text"
      },
      "source": [
        "<a href=\"https://colab.research.google.com/github/awildsheepchase/Web-Crawler/blob/main/1.ipynb\" target=\"_parent\"><img src=\"https://colab.research.google.com/assets/colab-badge.svg\" alt=\"Open In Colab\"/></a>"
      ]
    },
    {
      "cell_type": "code",
      "execution_count": null,
      "metadata": {
        "colab": {
          "base_uri": "https://localhost:8080/"
        },
        "id": "UeKYJAsOjV9N",
        "outputId": "823f0fbe-58f7-4cc5-8814-833558b46b77"
      },
      "outputs": [
        {
          "output_type": "stream",
          "name": "stdout",
          "text": [
            "Response: <Response [200]>\n",
            "狀態代碼: 200\n",
            "標頭資訊\n",
            "Date => Wed, 28 Sep 2022 08:38:12 GMT\n",
            "Server => Apache/2.4.37 (centos) OpenSSL/1.1.1g\n",
            "X-Powered-By => PHP/7.2.24\n",
            "Keep-Alive => timeout=5, max=100\n",
            "Connection => Keep-Alive\n",
            "Transfer-Encoding => chunked\n",
            "Content-Type => text/html; charset=UTF-8\n",
            "編碼: UTF-8\n",
            "需要DELETE的操作。\n",
            "缺少資料「id」。\n",
            "記得去PUT操作。\n",
            "需要更新資料「name」。\n",
            "PUT完了，也要PATCH資料。\n",
            "需要PATCH的資料是「address」。\n",
            "最後POST一筆資料吧。\n",
            "哈哈，答對了，請把操作過程中的所有指令保留在程式碼中，將檔案繳交上來。\n"
          ]
        }
      ],
      "source": [
        "import requests\n",
        "import codecs\n",
        "\n",
        "r = requests.get(\"http://teaching.bo-yuan.net/test/requests/\",\n",
        "                 params = {\"action\":\"500\"})\n",
        "print(\"Response:\",r)\n",
        "print(\"狀態代碼:\", r.status_code)\n",
        "print(\"標頭資訊\")\n",
        "for a,b in r.headers.items():\n",
        "  print(a,\"=>\",b)\n",
        "print(\"編碼:\",r.encoding)\n",
        "r.encoding = \"UTF-8\"\n",
        "print(r.text)\n",
        "r = requests.delete(\"http://teaching.bo-yuan.net/test/requests/\",\n",
        "                 params = {\"action\":\"500\"})\n",
        "print(r.text)\n",
        "r = requests.delete(\"http://teaching.bo-yuan.net/test/requests/\",\n",
        "                 params = {\"action\":\"500\"},\n",
        "                 data = { \"id\" : \"1\" })\n",
        "print(r.text)\n",
        "r = requests.put(\"http://teaching.bo-yuan.net/test/requests/\",\n",
        "                 params = {\"action\":\"500\"},\n",
        "                 data = { \"id\" : \"1\" })\n",
        "print(r.text)\n",
        "r = requests.put(\"http://teaching.bo-yuan.net/test/requests/\",\n",
        "                 params = {\"action\":\"500\"},\n",
        "                 data = { \"id\" : \"1\" ,  \"name\" : \"3\" })\n",
        "print(r.text)\n",
        "r = requests.patch(\"http://teaching.bo-yuan.net/test/requests/\",\n",
        "                 params = {\"action\":\"500\"},\n",
        "                 data = { \"id\" : \"1\" ,  \"name\" : \"3\" })\n",
        "print(r.text)\n",
        "r = requests.patch(\"http://teaching.bo-yuan.net/test/requests/\",\n",
        "                 params = {\"action\":\"500\"},\n",
        "                 data = { \"id\" : \"1\" ,  \"name\" : \"3\",\"address\" : \"2\" })\n",
        "print(r.text)\n",
        "r = requests.post(\"http://teaching.bo-yuan.net/test/requests/\",\n",
        "                 params = {\"action\":\"500\"},\n",
        "                 data = { \"id\" : \"1\" ,  \"name\" : \"3\",\"address\" : \"2\" })\n",
        "print(r.text)\n"
      ]
    },
    {
      "cell_type": "code",
      "source": [],
      "metadata": {
        "id": "6xklPr-4jbEw"
      },
      "execution_count": null,
      "outputs": []
    }
  ]
}