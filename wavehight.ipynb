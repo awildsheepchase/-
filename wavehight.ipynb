{
  "nbformat": 4,
  "nbformat_minor": 0,
  "metadata": {
    "colab": {
      "provenance": [],
      "include_colab_link": true
    },
    "kernelspec": {
      "name": "python3",
      "display_name": "Python 3"
    },
    "language_info": {
      "name": "python"
    }
  },
  "cells": [
    {
      "cell_type": "markdown",
      "metadata": {
        "id": "view-in-github",
        "colab_type": "text"
      },
      "source": [
        "<a href=\"https://colab.research.google.com/github/awildsheepchase/Web-Crawler/blob/main/wavehight.ipynb\" target=\"_parent\"><img src=\"https://colab.research.google.com/assets/colab-badge.svg\" alt=\"Open In Colab\"/></a>"
      ]
    },
    {
      "cell_type": "code",
      "execution_count": null,
      "metadata": {
        "colab": {
          "base_uri": "https://localhost:8080/"
        },
        "id": "HELEyZWGWwKE",
        "outputId": "8cd6298a-e5ea-41eb-d6e7-d96be0aec421"
      },
      "outputs": [
        {
          "output_type": "stream",
          "name": "stdout",
          "text": [
            "烏石\n",
            "+---------+------------+----------------+\n",
            "| 浪高(m) | 浪週期(秒) | 時間(每三小時) |\n",
            "+---------+------------+----------------+\n",
            "|   2.4   |    6.8     | 15:0010/18(二) |\n",
            "|   2.3   |    6.8     | 18:0010/18(二) |\n",
            "|   2.3   |    6.8     | 21:0010/18(二) |\n",
            "|   2.2   |    6.7     | 00:0010/19(三) |\n",
            "|   2.2   |    6.5     | 03:0010/19(三) |\n",
            "|   2.1   |    6.3     | 06:0010/19(三) |\n",
            "|   2.1   |    6.1     | 09:0010/19(三) |\n",
            "|   2.1   |    6.0     | 12:0010/19(三) |\n",
            "|   2.1   |    6.0     | 15:0010/19(三) |\n",
            "|   2.0   |    5.9     | 18:0010/19(三) |\n",
            "|   2.0   |    5.8     | 21:0010/19(三) |\n",
            "|   2.0   |    5.9     | 00:0010/20(四) |\n",
            "|   1.9   |    5.8     | 03:0010/20(四) |\n",
            "|   1.9   |    5.7     | 06:0010/20(四) |\n",
            "|   1.9   |    5.5     | 09:0010/20(四) |\n",
            "|   1.9   |    5.5     | 12:0010/20(四) |\n",
            "|   1.8   |    5.6     | 15:0010/20(四) |\n",
            "+---------+------------+----------------+\n"
          ]
        }
      ],
      "source": [
        "from re import A\n",
        "import requests\n",
        "from bs4 import BeautifulSoup \n",
        "import json\n",
        "import prettytable\n",
        "from urllib.request import urlopen\n",
        "\n",
        "def wave_3hrs(x):\n",
        "# 匯入讀取檔案Harbors.json,整理pid字典\n",
        "  with open (\"Harbors.json\", mode =\"r\", encoding = \"utf-8\") as file:\n",
        "    origindata = json.load(file)\n",
        "\n",
        "  # print(data[0][\"PID\"])\n",
        "  # print(data[0][\"Name\"][\"C\"])\n",
        "  newdict = {}\n",
        "  for d in origindata:\n",
        "    newdict.setdefault(d[\"Name\"][\"C\"],d[\"PID\"])\n",
        "    # print(d[\"PID\"])\n",
        "    # print(d[\"Name\"][\"C\"])\n",
        "  # print(newdict)\n",
        "  pid = newdict[x]\n",
        "  # print(pid)參數帶入鍵入值以查詢港\n",
        "\n",
        "  # ==============================================================================================\n",
        "  # 每三小時海況預報:input PID\n",
        "  req = requests.get(\"https://www.cwb.gov.tw/V8/C/L/Harbors/MOD/3hrMMC/\"+pid+\"_3hrMMC_PC.html\")                  \n",
        "  p = BeautifulSoup(req.text,\"html.parser\")\n",
        "  timelis = []\n",
        "  time = p.find_all(\"th\",{\"scope\":\"col\"},)\n",
        "  for c in time:\n",
        "    timelis.append(c.text) \n",
        "  # print(timelis)\n",
        "\n",
        "  tds = p.find_all(\"td\")\n",
        "  lis = []\n",
        "  for c in tds:\n",
        "      lis.append(c.text) \n",
        "  # print(lis)\n",
        "  waveweek = lis[0:17]\n",
        "  wavehight = lis[17:34]\n",
        "  # print(waveweek)\n",
        "  # print(wavehight)\n",
        "\n",
        "  table = prettytable.PrettyTable(encodeing=\"utf-8\")\n",
        "  table.add_column(\"浪高(m)\",wavehight)\n",
        "  table.add_column(\"浪週期(秒)\",waveweek)\n",
        "  table.add_column(\"時間(每三小時)\",timelis)\n",
        "  return table"
      ]
    }
  ]
}