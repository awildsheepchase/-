{
  "nbformat": 4,
  "nbformat_minor": 0,
  "metadata": {
    "colab": {
      "provenance": [],
      "toc_visible": true,
      "include_colab_link": true
    },
    "kernelspec": {
      "name": "python3",
      "display_name": "Python 3"
    },
    "language_info": {
      "name": "python"
    }
  },
  "cells": [
    {
      "cell_type": "markdown",
      "metadata": {
        "id": "view-in-github",
        "colab_type": "text"
      },
      "source": [
        "<a href=\"https://colab.research.google.com/github/awildsheepchase/Web-Crawler/blob/main/CWB_temperature.ipynb\" target=\"_parent\"><img src=\"https://colab.research.google.com/assets/colab-badge.svg\" alt=\"Open In Colab\"/></a>"
      ]
    },
    {
      "cell_type": "code",
      "execution_count": null,
      "metadata": {
        "colab": {
          "base_uri": "https://localhost:8080/"
        },
        "id": "w2NIvFGxzMdN",
        "outputId": "c8d29147-3188-4527-eda9-03f9ad04fc6e"
      },
      "outputs": [
        {
          "output_type": "stream",
          "name": "stdout",
          "text": [
            "+--------+------+\n",
            "| 地區   | 氣溫 |\n",
            "+--------+------+\n",
            "| 基隆市 | 27.6 |\n",
            "| 臺北市 | 30.5 |\n",
            "| 新北市 | 29.7 |\n",
            "| 桃園市 | 29.7 |\n",
            "| 新竹市 | 30.2 |\n",
            "| 新竹縣 | 31.8 |\n",
            "| 苗栗縣 | 32.8 |\n",
            "| 臺中市 | 33.0 |\n",
            "| 彰化縣 | 33.1 |\n",
            "| 南投縣 | 34.5 |\n",
            "| 雲林縣 | 33.9 |\n",
            "| 嘉義市 | 34.1 |\n",
            "| 嘉義縣 | 33.8 |\n",
            "| 臺南市 | 33.9 |\n",
            "| 高雄市 | 35.4 |\n",
            "| 屏東縣 | 34.3 |\n",
            "| 宜蘭縣 | 29.2 |\n",
            "| 花蓮縣 | 33.2 |\n",
            "| 臺東縣 | 32.7 |\n",
            "| 澎湖縣 | 31.2 |\n",
            "| 金門縣 | 29.7 |\n",
            "| 連江縣 | 26.0 |\n",
            "+--------+------+\n"
          ]
        }
      ],
      "source": [
        "import requests\n",
        "from bs4 import BeautifulSoup \n",
        "import prettytable\n",
        "\n",
        "# 爬取台灣氣象局溫度極值\n",
        "\n",
        "r = requests.get(\"https://www.cwb.gov.tw/V8/C/W/TemperatureTop/County_TMax_T.html\") \n",
        "\n",
        "# print(r.text)\n",
        "p = BeautifulSoup(r.text, \"html.parser\")\n",
        "# county = p.find_all(\"th\",{\"scope\":\"row\"})\n",
        "# for c in county:\n",
        "#   print(c.text)\n",
        "\n",
        "# tem = p.find_all(\"span\",{\"class\":\"tem-C is-active\"})\n",
        "# for t in tem:\n",
        "#   print(t.text)\n",
        "\n",
        "table = prettytable.PrettyTable([\"地區\",\"氣溫\"], encodeing=\"utf-8\")\n",
        "data = p.find_all(\"th\",{\"scope\":\"row\"})\n",
        "for ct in data:\n",
        "  # print(ct.text, ct.parent.find(\"span\",{\"class\":\"tem-C is-active\"}).text)\n",
        "  table.add_row([ct.text, ct.parent.find(\"span\",{\"class\":\"tem-C is-active\"}).text])\n",
        "  table.align[\"地區\"]= \"l\"\n",
        "print(table)"
      ]
    },
    {
      "cell_type": "code",
      "source": [],
      "metadata": {
        "id": "hUIR9hQgAawT"
      },
      "execution_count": null,
      "outputs": []
    }
  ]
}