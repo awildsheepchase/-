{
  "nbformat": 4,
  "nbformat_minor": 0,
  "metadata": {
    "colab": {
      "provenance": [],
      "include_colab_link": true
    },
    "kernelspec": {
      "name": "python3",
      "display_name": "Python 3"
    },
    "language_info": {
      "name": "python"
    }
  },
  "cells": [
    {
      "cell_type": "markdown",
      "metadata": {
        "id": "view-in-github",
        "colab_type": "text"
      },
      "source": [
        "<a href=\"https://colab.research.google.com/github/awildsheepchase/Web-Crawler/blob/main/NEWS.ipynb\" target=\"_parent\"><img src=\"https://colab.research.google.com/assets/colab-badge.svg\" alt=\"Open In Colab\"/></a>"
      ]
    },
    {
      "cell_type": "code",
      "execution_count": null,
      "metadata": {
        "colab": {
          "base_uri": "https://localhost:8080/"
        },
        "id": "GlL2VNS9nu_g",
        "outputId": "17261de6-2b0e-40bc-dff3-28ecb730493a"
      },
      "outputs": [
        {
          "output_type": "stream",
          "name": "stdout",
          "text": [
            "2022-10-05 外交部長吳釗燮款宴德國國會友台小組訪團，感謝德國真摯情誼，堅定支持我國\n",
            "2022-10-04 外交部領事事務局LINE官方帳號「波鴿家族x嗨小強」貼圖免費下載，歡迎踴躍參加\n",
            "2022-10-04 有關北韓於台灣時間10月4日清晨再度試射彈道飛彈事，外交部回應如下：\n",
            "2022-10-04 外交部誠摯歡迎帛琉總統惠恕仁率團訪台進行國是訪問\n",
            "2022-10-03 有關特定媒體利用美方說明其廠商有能力承擔我國彩券系統標案，藉此惡意抹黑我國政府以利益維繫對外關係事，外交部嚴正澄清回應如下：\n",
            "2022-10-01 有關北韓再度於台灣時間10月1日上午5時45分至6時3分，自平壤順安地區朝日本海方向試射2枚短程彈道飛彈事，外交部回應如下：\n",
            "2022-10-01 台灣、美國、日本及澳洲於第41屆「國際民航組織」大會期間在「全球合作暨訓練架構」下舉辦國際研討會，共同強化國際民航合作\n",
            "2022-10-01 外交部舉辦「第28期外交遠朋西語班」結訓典禮\n",
            "2022-09-30 外交部誠摯感謝友邦在「國際民航組織」大會期間為台灣仗義執言，另嚴正駁斥中國謬論\n",
            "2022-09-30 有關外交部總部人員新增確診武漢肺炎情形，外交部說明如下：\n",
            "2022-09-30 有關9月23日至9月29日我國駐外館處新增確診武漢肺炎人員統計事，外交部說明如下：\n",
            "2022-09-30 我國政府嚴正譴責俄羅斯藉由假公投遂行兼併烏克蘭領土的野心\n",
            "2022-09-30 外交部政務次長田中光主持「2022年連結新南向菁英培育專班三校聯合開學典禮」，與印尼等新南向國家專班學生互動熱絡 \n",
            "2022-09-30 有關美國聯邦參議院跨黨派議員提出法案協助台灣有意義參與國際民航組織事，外交部回應說明如下：\n",
            "2022-09-30 外交部誠摯感謝福爾摩沙俱樂部拉丁美洲及加勒比海地區16國議員支持台灣參與國際民航組織大會 \n",
            "2022-09-29 外交部政務次長田中光代表部長吳釗燮出席「大韓民國國慶日慶祝晚會」\n",
            "2022-09-29 有關本年ICAO大會中美國及其他理念相近國家發言助我事，外交部說明如下：\n",
            "2022-09-29 外交部配合開放邊境管制措施調整外籍人士來台規範\n",
            "2022-09-29 2022年「臺灣國際漁業展」與「臺灣智慧農業週」聯合開幕儀式，邦交國及駐台代表共襄盛舉\n",
            "2022-09-29 台灣、美國、日本及澳洲於聯合國大會開議期間在「全球合作暨訓練架構」（GCTF）下舉辦國際研討會，共同為全球挑戰尋求變革性解決方案\n"
          ]
        }
      ],
      "source": [
        "import requests\n",
        "from bs4 import BeautifulSoup \n",
        "\n",
        "r = requests.get(\"https://www.mofa.gov.tw/News.aspx\", \n",
        "                 params = {\"n\" : \"95\",\n",
        "                        \"sms\" : \"73\",\n",
        "                        \"page\" : \"1\",\n",
        "                        \"PageSize\" : \"20\"})\n",
        "# print(r.text)\n",
        "p1 = BeautifulSoup(r.text, \"html.parser\")\n",
        "# data_d = p1.find_all(\"td\",{\"class\":\"CCMS_jGridView_td_Class_0 is-center\"})\n",
        "# for d in data_d:\n",
        "#   print(d.text)\n",
        "\n",
        "# data_t = p1.find_all(\"td\",{\"class\":\"CCMS_jGridView_td_Class_1 is-left\"})\n",
        "# for t in data_t:\n",
        "#   print(t.text)\n",
        "\n",
        "data_all = p1.find_all(\"td\",{\"class\":\"CCMS_jGridView_td_Class_1 is-left\"})\n",
        "for dt in data_all:\n",
        "  print(dt.parent.find(\"td\",{\"class\":\"CCMS_jGridView_td_Class_0 is-center\"}).text,dt.text)"
      ]
    },
    {
      "cell_type": "code",
      "source": [
        "import requests\n",
        "from bs4 import BeautifulSoup \n",
        "import codecs\n",
        "\n",
        "r = requests.get(\"https://www.mofa.gov.tw/News.aspx\", \n",
        "                 params = {\"n\" : \"95\",\n",
        "                        \"sms\" : \"73\",\n",
        "                        \"page\" : \"1\",\n",
        "                        \"PageSize\" : \"20\"})\n",
        "# print(r.text)\n",
        "p1 = BeautifulSoup(r.text, \"html.parser\")\n",
        "data_all = p1.find_all(\"td\",{\"class\":\"CCMS_jGridView_td_Class_1 is-left\"})\n",
        "for dt in data_all:\n",
        "  print(dt.parent.find(\"td\",{\"class\":\"CCMS_jGridView_td_Class_0 is-center\"}).text,dt.text)\n",
        "  print(dt.find(\"a\").attrs[\"href\"])\n",
        "  print(\"=======================================\")"
      ],
      "metadata": {
        "colab": {
          "base_uri": "https://localhost:8080/"
        },
        "id": "FgJuOF5MywxU",
        "outputId": "3451c6fe-5b8a-4567-b7a4-d62a71e4c726"
      },
      "execution_count": null,
      "outputs": [
        {
          "output_type": "stream",
          "name": "stdout",
          "text": [
            "2022-10-05 外交部長吳釗燮款宴德國國會友台小組訪團，感謝德國真摯情誼，堅定支持我國\n",
            "News_Content.aspx?n=95&s=98758\n",
            "=======================================\n",
            "2022-10-04 外交部領事事務局LINE官方帳號「波鴿家族x嗨小強」貼圖免費下載，歡迎踴躍參加\n",
            "News_Content.aspx?n=95&s=98747\n",
            "=======================================\n",
            "2022-10-04 有關北韓於台灣時間10月4日清晨再度試射彈道飛彈事，外交部回應如下：\n",
            "News_Content.aspx?n=95&s=98746\n",
            "=======================================\n",
            "2022-10-04 外交部誠摯歡迎帛琉總統惠恕仁率團訪台進行國是訪問\n",
            "News_Content.aspx?n=95&s=98745\n",
            "=======================================\n",
            "2022-10-03 有關特定媒體利用美方說明其廠商有能力承擔我國彩券系統標案，藉此惡意抹黑我國政府以利益維繫對外關係事，外交部嚴正澄清回應如下：\n",
            "News_Content.aspx?n=95&s=98743\n",
            "=======================================\n",
            "2022-10-01 有關北韓再度於台灣時間10月1日上午5時45分至6時3分，自平壤順安地區朝日本海方向試射2枚短程彈道飛彈事，外交部回應如下：\n",
            "News_Content.aspx?n=95&s=98730\n",
            "=======================================\n",
            "2022-10-01 台灣、美國、日本及澳洲於第41屆「國際民航組織」大會期間在「全球合作暨訓練架構」下舉辦國際研討會，共同強化國際民航合作\n",
            "News_Content.aspx?n=95&s=98729\n",
            "=======================================\n",
            "2022-10-01 外交部舉辦「第28期外交遠朋西語班」結訓典禮\n",
            "News_Content.aspx?n=95&s=98728\n",
            "=======================================\n",
            "2022-09-30 外交部誠摯感謝友邦在「國際民航組織」大會期間為台灣仗義執言，另嚴正駁斥中國謬論\n",
            "News_Content.aspx?n=95&s=98727\n",
            "=======================================\n",
            "2022-09-30 有關外交部總部人員新增確診武漢肺炎情形，外交部說明如下：\n",
            "News_Content.aspx?n=95&s=98723\n",
            "=======================================\n",
            "2022-09-30 有關9月23日至9月29日我國駐外館處新增確診武漢肺炎人員統計事，外交部說明如下：\n",
            "News_Content.aspx?n=95&s=98722\n",
            "=======================================\n",
            "2022-09-30 我國政府嚴正譴責俄羅斯藉由假公投遂行兼併烏克蘭領土的野心\n",
            "News_Content.aspx?n=95&s=98721\n",
            "=======================================\n",
            "2022-09-30 外交部政務次長田中光主持「2022年連結新南向菁英培育專班三校聯合開學典禮」，與印尼等新南向國家專班學生互動熱絡 \n",
            "News_Content.aspx?n=95&s=98720\n",
            "=======================================\n",
            "2022-09-30 有關美國聯邦參議院跨黨派議員提出法案協助台灣有意義參與國際民航組織事，外交部回應說明如下：\n",
            "News_Content.aspx?n=95&s=98718\n",
            "=======================================\n",
            "2022-09-30 外交部誠摯感謝福爾摩沙俱樂部拉丁美洲及加勒比海地區16國議員支持台灣參與國際民航組織大會 \n",
            "News_Content.aspx?n=95&s=98716\n",
            "=======================================\n",
            "2022-09-29 外交部政務次長田中光代表部長吳釗燮出席「大韓民國國慶日慶祝晚會」\n",
            "News_Content.aspx?n=95&s=98715\n",
            "=======================================\n",
            "2022-09-29 有關本年ICAO大會中美國及其他理念相近國家發言助我事，外交部說明如下：\n",
            "News_Content.aspx?n=95&s=98714\n",
            "=======================================\n",
            "2022-09-29 外交部配合開放邊境管制措施調整外籍人士來台規範\n",
            "News_Content.aspx?n=95&s=98713\n",
            "=======================================\n",
            "2022-09-29 2022年「臺灣國際漁業展」與「臺灣智慧農業週」聯合開幕儀式，邦交國及駐台代表共襄盛舉\n",
            "News_Content.aspx?n=95&s=98711\n",
            "=======================================\n",
            "2022-09-29 台灣、美國、日本及澳洲於聯合國大會開議期間在「全球合作暨訓練架構」（GCTF）下舉辦國際研討會，共同為全球挑戰尋求變革性解決方案\n",
            "News_Content.aspx?n=95&s=98710\n",
            "=======================================\n"
          ]
        }
      ]
    },
    {
      "cell_type": "code",
      "source": [
        "import requests\n",
        "from bs4 import BeautifulSoup \n",
        "import codecs\n",
        "\n",
        "r = requests.get(\"https://www.mofa.gov.tw/News.aspx\", \n",
        "                 params = {\"n\" : \"95\",\n",
        "                        \"sms\" : \"73\",\n",
        "                        \"page\" : \"1\",\n",
        "                        \"PageSize\" : \"20\"})\n",
        "# print(r.text)\n",
        "p1 = BeautifulSoup(r.text, \"html.parser\")\n",
        "data_all = p1.find_all(\"td\",{\"class\":\"CCMS_jGridView_td_Class_1 is-left\"})\n",
        "for dt in data_all:\n",
        "  print(dt.parent.find(\"td\",{\"class\":\"CCMS_jGridView_td_Class_0 is-center\"}).text,dt.text)\n",
        "  print(dt.find(\"a\").attrs[\"href\"])\n",
        "  print(\"=======================================\")\n",
        "\n",
        "r2 = requests.get(\"https://www.mofa.gov.tw/News.aspx\"+dt.find(\"a\").attrs[\"href\"])"
      ],
      "metadata": {
        "id": "p3lipJzh_aQk"
      },
      "execution_count": null,
      "outputs": []
    }
  ]
}