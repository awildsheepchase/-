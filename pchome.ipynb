{
  "nbformat": 4,
  "nbformat_minor": 0,
  "metadata": {
    "colab": {
      "provenance": [],
      "include_colab_link": true
    },
    "kernelspec": {
      "name": "python3",
      "display_name": "Python 3"
    },
    "language_info": {
      "name": "python"
    }
  },
  "cells": [
    {
      "cell_type": "markdown",
      "metadata": {
        "id": "view-in-github",
        "colab_type": "text"
      },
      "source": [
        "<a href=\"https://colab.research.google.com/github/awildsheepchase/Web-Crawler/blob/main/pchome.ipynb\" target=\"_parent\"><img src=\"https://colab.research.google.com/assets/colab-badge.svg\" alt=\"Open In Colab\"/></a>"
      ]
    },
    {
      "cell_type": "code",
      "execution_count": null,
      "metadata": {
        "colab": {
          "base_uri": "https://localhost:8080/"
        },
        "id": "Ua3snI5g_9YB",
        "outputId": "22d43d4d-05c3-464e-b337-647b0827e0e1"
      },
      "outputs": [
        {
          "output_type": "stream",
          "name": "stdout",
          "text": [
            "+-------------------------------------------------------------------------------------------+--------+\n",
            "| 名稱                                                                                      |  價格  |\n",
            "+-------------------------------------------------------------------------------------------+--------+\n",
            "| 【日韓簡約】素色漁夫帽 遮陽帽 帽子 盆帽 運動 防曬 戶外 登山 休閒 男女 潮流 (藏青)         |  690   |\n",
            "| 泰山小純水350ml(24入)                                                                     |  269   |\n",
            "| YAMAHA 山葉機車 BW’S R 125 UBS碟煞-特仕版                                                 | 100000 |\n",
            "| 泰山 Cheers EX 強氣泡水 (500mlx24入x2箱)                                                  |  798   |\n",
            "| YAMAHA 山葉機車 Vinoora 125 碟煞                                                          | 82000  |\n",
            "| 【大東山珠寶】南洋貝寶珠鍊款式10選1(硨磲貝珠)                                             |  1680  |\n",
            "| YAMAHA 山葉機車 GRYPHUS 新勁戰125 雙碟ABS特仕版-7期                                       | 103500 |\n",
            "| 【富山香堂】周年升級限定版_國寶級台灣肖楠205mm臥香_200g                                   |  2400  |\n",
            "| YAMAHA 山葉機車 BW’S R 125 UBS碟煞-特仕版(精品組)                                         | 100000 |\n",
            "| 泰山純水2000ml (8入/箱)                                                                   |  280   |\n",
            "| 泰山Cheers氣泡水 500ml(24入/箱)                                                           |  449   |\n",
            "| MOLESKINE 2023小王子限量週記12M(L型)-山景                                                 |  990   |\n",
            "| 《泰山》Twist Water 環保包裝水1460ml(12入)                                                |  229   |\n",
            "| YAMAHA 山葉 FORCE 155 夜狂                                                                | 93800  |\n",
            "| 原萃 烏龍茶 (含文山包種) 580ml(24入/箱)                                                   |  415   |\n",
            "| 《泰山》純水5000ml(2入)                                                                   |  159   |\n",
            "| 《泰山》Twist Water 環保包裝水600ml(24入)                                                 |  239   |\n",
            "| 【golovejoy】防水手套 防風 防寒 內層加絨蓄熱手套 機車手套 登山 滑雪 男女適用 觸控手套(黑) |  690   |\n",
            "| 《泰山》純水2500ml (6入/箱)                                                               |  269   |\n",
            "| YAMAHA 山葉機車 RS NEO 125 碟煞-潮chill                                                   | 78500  |\n",
            "+-------------------------------------------------------------------------------------------+--------+\n"
          ]
        }
      ],
      "source": [
        "import requests\n",
        "import prettytable\n",
        "import json\n",
        "import IPython.display as dp\n",
        "\n",
        "q = input(\"關鍵字:\")\n",
        "t = 1\n",
        "while True:\n",
        "  if t == 1 :\n",
        "    page = 1\n",
        "    r = requests.get(\"https://ecshweb.pchome.com.tw/search/v3.3/all/results\",\n",
        "                  params = {  \"q\" : q ,\n",
        "                          \"page\": page , \n",
        "                          \"sort\":\"sale/dc\"})\n",
        "    data = r.json()\n",
        "    table = prettytable.PrettyTable([\"名稱\",\"價格\"], encodeing=\"utf-8\")\n",
        "\n",
        "    for i in data[\"prods\"]:\n",
        "      table.add_row([i[\"name\"],i[\"price\"]])\n",
        "    table.align[\"名稱\"]= \"l\"\n",
        "    dp.clear_output(True)\n",
        "    print(table)\n",
        "    page = input(\"前往頁碼:\")\n",
        "    \n",
        "\n",
        "  else:\n",
        "    r = requests.get(\"https://ecshweb.pchome.com.tw/search/v3.3/all/results\",\n",
        "                  params = {  \"q\" : q ,\n",
        "                          \"page\": page , \n",
        "                          \"sort\":\"sale/dc\"})\n",
        "    data = r.json()\n",
        "    table = prettytable.PrettyTable([\"名稱\",\"價格\"], encodeing=\"utf-8\")\n",
        "\n",
        "    for i in data[\"prods\"]:\n",
        "      table.add_row([i[\"name\"],i[\"price\"]])\n",
        "    table.align[\"名稱\"]= \"l\"\n",
        "    dp.clear_output(True)\n",
        "    print(table)\n",
        "    page = int(input(\"前往頁碼:\"))\n",
        "  t += 1"
      ]
    }
  ]
}